{
 "cells": [
  {
   "cell_type": "markdown",
   "metadata": {},
   "source": [
    "## Chapter 2\n",
    "\n",
    "### Problem 1\n",
    "Let $X = \\{x_i\\}_{i=1}^N$ represent the public transit lines in a city and let $Y$ denote the weight of each public transit carrier vehicle.\n",
    "\n",
    "Let $X = \\{x_i\\}_{i=1}^N$ be the set of all XBox games and let $Y$ represent the total time played over all users.\n",
    "\n",
    "Let $X$ be the days of the year and let $Y$ be the temperature:  If $\\bar x$ is 21 Feb and $\\bar y$ is thirty degrees Fahrenheit, the joint probability $Pr(x=\\bar x, y=\\bar y)$ is interpreted to mean _the probability that both the day is 21 Feb and the temperature is thirty degrees Fahrenheit_."
   ]
  },
  {
   "cell_type": "markdown",
   "metadata": {},
   "source": [
    "### Problem 2\n",
    "If you marginalize over $w, y$, the resulting distribution is:\n",
    "\n",
    "\\begin{equation}\n",
    "\\int_w \\int_y Pr(v, w, x, y, z) dy dw = Pr(v, x, z),\n",
    "\\end{equation}\n",
    "\n",
    "which is the joint probability distribution over $v, x,$ and $z$.\n",
    "\n",
    "If you marginalize the resulting joint probability distribution over $v$, you get the joint probability distribution over $x$ and $z$, $Pr(x, z)$."
   ]
  },
  {
   "cell_type": "markdown",
   "metadata": {},
   "source": [
    "### Problem 3\n",
    "\\begin{equation}\n",
    "Pr(w, x, y, z) = Pr(w, x, y | z) Pr(z)\n",
    "\\end{equation}\n",
    "\n",
    "By Bayes' rule, it's true that:\n",
    "\n",
    "\\begin{equation}\n",
    "Pr(w, x, y | z) Pr(z) = Pr(z | w, x, y) Pr(w, x, y).\n",
    "\\end{equation}\n",
    "\n",
    "The first equality then becomes:\n",
    "\n",
    "\\begin{aligned}\n",
    "Pr(w, x, y, z) &= Pr(z | w, x, y) Pr(w, x, y) \\\\\n",
    "&= Pr(z | w, x, y) Pr(w | x, y) Pr(x, y).\n",
    "\\end{aligned}"
   ]
  },
  {
   "cell_type": "markdown",
   "metadata": {},
   "source": [
    "### Problem 4\n",
    "The _posterior_ probability that a selected coin is the unfair coin ($c$) given that a head was observed ($h$) is computed using Bayes' rule:\n",
    "\n",
    "\\begin{equation}\n",
    "Pr(c | h) = \\frac{Pr(h|c) Pr(c)}{Pr(h)}.\n",
    "\\end{equation}\n",
    "\n",
    "* $Pr(h|c) = 0.8$ is the _likelihood_: the probability that the unfair coin will yield a head\n",
    "* $Pr(c) = 0.5$ is the _prior_: the probability that the unfair coin was selected\n",
    "* $Pr(h) = Pr(h|c)Pr(c) + Pr(h| ~c)Pr(~c) = 0.5 \\cdot 0.5 + 0.8 \\cdot 0.5=0.65$ is the _evidence_: the overall probability of observing a head.\n",
    "\n",
    "The posterior probability $Pr(c | h) = \\frac{0.8 \\cdot 0.5}{0.65} = \\frac{8}{13}$.\n"
   ]
  },
  {
   "cell_type": "markdown",
   "metadata": {},
   "source": [
    "### Problem 5\n",
    "$(x, y)$ and $(x, z)$ independent _does not_ imply $(y, z)$ are independent.  As a counterexample, let $y=z$ be independent of $x$.  The underlying assumption is met, but clearly when $y=z$, $(y, z)$ is not independent."
   ]
  },
  {
   "cell_type": "markdown",
   "metadata": {},
   "source": [
    "### Problem 6\n",
    "\n",
    "\\begin{aligned}\n",
    "Pr(x | y=y^*) &= \\frac{Pr(x, y=y^*)}{Pr(y=y^*)} \\\\\n",
    "&= \\frac{Pr(x) Pr(y=y^*)}{Pr(y=y^*)} \\\\\n",
    "&= Pr(x)\n",
    "\\end{aligned}\n",
    "\n",
    "where the independence assumption is used in line 2 above."
   ]
  },
  {
   "cell_type": "markdown",
   "metadata": {},
   "source": [
    "### Problem 7\n",
    "\n",
    "\\begin{aligned}\n",
    "Pr(w, x, y, z) &= Pr(w, x, y|z) Pr(z) \\\\\n",
    "&= Pr(z | w, x, y) Pr(w, x, y) \\\\\n",
    "&= Pr(z | w, x, y) Pr(y | w, x) Pr(w, x)\n",
    "\\end{aligned}\n",
    "\n",
    "We are given $Pr(w, x, y, z)$ factors to $Pr(z|y) Pr(y|x,w) Pr(x) Pr(w)$, therefore:\n",
    "\n",
    "\\begin{aligned}\n",
    "Pr(z | w, x, y) Pr(y | w, x) Pr(w, x) &= Pr(z|y) Pr(y|x,w) Pr(x) Pr(w) \\\\\n",
    "(\\implies) Pr(z | w, x, y) Pr(w, x) &= Pr(z|y) Pr(x) Pr(w)\n",
    "\\end{aligned}\n",
    "\n",
    "We can conclude that $Pr(z | w, x, y) = Pr(z | y)$, that is $z$ is independent of $w$ and $x$ because $z$ is not present anywhere else in the derived equality.  Therefore, it follows that $Pr(x, w) = Pr(x) Pr(w)$, $(x, w)$ is independent."
   ]
  },
  {
   "cell_type": "markdown",
   "metadata": {},
   "source": [
    "### Problem 8\n",
    "\n",
    "\\begin{aligned}\n",
    "E[x] &= \\sum_{i=1}^6 x_i Pr(x_i) \\\\\n",
    "&= \\frac{1}{12} \\cdot 1 + \\frac{1}{12} \\cdot 2 + \\frac{1}{12} \\cdot 3 + \\frac{1}{12} \\cdot 4 + \\frac{1}{6} \\cdot 5 + \\frac{1}{2} \\cdot 6 \\\\\n",
    "&= \\frac{14}{3} \\approx 4.7\n",
    "\\end{aligned}"
   ]
  },
  {
   "cell_type": "markdown",
   "metadata": {},
   "source": [
    "### Problem 9\n",
    "The continuous case is considered, but the logic below can also be used in the discrete case.  Just replace the integral with a sum over elements.  This works because both the integral and summation operators are _linear_.\n",
    "\n",
    "#### $E[\\kappa]$:\n",
    "\n",
    "\\begin{aligned}\n",
    "E[\\kappa] &= \\int \\kappa Pr(x) dx \\\\\n",
    "&= \\kappa \\int Pr(x) dx \\\\\n",
    "&= \\kappa \\cdot 1 \\\\\n",
    "&= \\kappa\n",
    "\\end{aligned}\n",
    "\n",
    "#### $E[\\kappa f(x)]$:\n",
    "\n",
    "\\begin{aligned}\n",
    "E[\\kappa f(x)] &= \\int \\kappa f(x) Pr(x) dx \\\\\n",
    "&= \\kappa \\int f(x) Pr(x) dx \\\\\n",
    "&= \\kappa E[f(x)]\n",
    "\\end{aligned}\n",
    "\n",
    "#### $E[f(x) + g(x)]$:\n",
    "\n",
    "\\begin{aligned}\n",
    "E[f(x) + g(x)] &= \\int [f(x) + g(x)]Pr(x) dx \\\\\n",
    "&= \\int f(x) Pr(x) dx + \\int g(x) Pr(x) dx \\\\\n",
    "&= E[f(x)] + E[g(x)]\n",
    "\\end{aligned}\n",
    "\n",
    "#### $E[f(x)g(y)]$, $(x, y)$ independent\n",
    "\n",
    "\\begin{aligned}\n",
    "E[f(x)g(y)] &= \\int \\int f(x) g(y) Pr(x, y) dx dy \\\\\n",
    "&= \\int g(y) \\int f(x) Pr(x, y) dx dy \\\\\n",
    "&= \\int g(y) dy \\int f(x) Pr(x) Pr(y) dx \\\\\n",
    "&= \\int g(y) Pr(y) dy \\int f(x) Pr(x) dx \\\\\n",
    "&= \\bigl ( \\int g(y) Pr(y) dy \\bigr ) \\bigl (\\int f(x) Pr(x) dx \\bigr ) \\\\\n",
    "&= E[f(x)] \\cdot E[g(y)]\n",
    "\\end{aligned}"
   ]
  },
  {
   "cell_type": "markdown",
   "metadata": {},
   "source": [
    "### Problem  10\n",
    "\n",
    "\\begin{aligned}\n",
    "E[(x-\\mu)^2] &= E[x^2 - 2 \\mu x + \\mu^2] \\\\\n",
    "&= E[x^2] - 2 \\mu E[x] + \\mu^2 \\\\\n",
    "&= E[x^2] - 2 \\mu^2 + \\mu^2 \\\\\n",
    "&= E[x^2] - \\mu^2 \\\\\n",
    "&\\triangleq E[x^2] - E[x]^2\n",
    "\\end{aligned}"
   ]
  }
 ],
 "metadata": {
  "kernelspec": {
   "display_name": "Python 3",
   "language": "python",
   "name": "python3"
  },
  "language_info": {
   "codemirror_mode": {
    "name": "ipython",
    "version": 3
   },
   "file_extension": ".py",
   "mimetype": "text/x-python",
   "name": "python",
   "nbconvert_exporter": "python",
   "pygments_lexer": "ipython3",
   "version": "3.5.2"
  },
  "widgets": {
   "state": {},
   "version": "1.1.2"
  }
 },
 "nbformat": 4,
 "nbformat_minor": 2
}
