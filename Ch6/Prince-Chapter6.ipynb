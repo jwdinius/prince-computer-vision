{
 "cells": [
  {
   "cell_type": "markdown",
   "metadata": {},
   "source": [
    "## Chapter 6"
   ]
  },
  {
   "cell_type": "markdown",
   "metadata": {},
   "source": [
    "### Algorithm Examples"
   ]
  },
  {
   "cell_type": "code",
   "execution_count": 1,
   "metadata": {},
   "outputs": [],
   "source": [
    "from importlib import reload\n",
    "import utilities as utils\n",
    "reload(utils)\n",
    "import numpy as np\n",
    "import matplotlib.pyplot as plt"
   ]
  },
  {
   "cell_type": "code",
   "execution_count": 3,
   "metadata": {},
   "outputs": [
    {
     "data": {
      "image/png": "[encoded data removed]",
      "text/plain": [
       "<matplotlib.figure.Figure at 0x7efe4bcc8240>"
      ]
     },
     "metadata": {
      "needs_background": "light"
     },
     "output_type": "display_data"
    }
   ],
   "source": [
    "mu_0, var_0 = -2., 1.0\n",
    "mu_1, var_1 = 2., 1.0\n",
    "num_labels = 2\n",
    "n_samples = 100\n",
    "distro = np.random.RandomState(seed=0)\n",
    "data = np.empty((1, 2*n_samples))\n",
    "data[0, :n_samples] = np.sqrt(var_0) * distro.randn(n_samples) + mu_0\n",
    "data[0, n_samples:] = np.sqrt(var_1) * distro.randn(n_samples) + mu_1\n",
    "labels = np.empty((2*n_samples,))\n",
    "labels[:n_samples] = 0\n",
    "labels[n_samples:] = 1\n",
    "\n",
    "sample_pts = 200\n",
    "test_data = np.linspace(-5, 5, 200)\n",
    "Probs = np.zeros((2, sample_pts))\n",
    "_lambdas, mus, Sigmas = utils.basic_generative_classifier(num_labels, data, labels)\n",
    "for i,t in enumerate(test_data):\n",
    "    postr_probs = utils.evaluate_posterior_probabilities(mus, Sigmas, _lambdas, np.array([[t]]))\n",
    "    Probs[:, i] = postr_probs\n",
    "plt.figure()\n",
    "plt.plot(data[0, :n_samples], np.zeros((n_samples,)).T, 'bo', label='w=0 data')\n",
    "plt.plot(data[0, n_samples:], np.zeros((n_samples,)).T, 'ro', label='w=1 data')\n",
    "plt.plot(test_data, Probs[0, :], 'b', label='Pr(w = 0 | x)')\n",
    "plt.plot(test_data, Probs[1, :], 'r', label='Pr(w = 1 | x)')\n",
    "plt.xlabel('x')\n",
    "plt.ylabel('Pr(w | x)')\n",
    "plt.title('Probability of World State Given Datapoint - Binary Classification')\n",
    "plt.legend()\n",
    "plt.show()"
   ]
  },
  {
   "cell_type": "markdown",
   "metadata": {},
   "source": [
    "### Problem 1\n",
    "\n",
    "* (i) This is a classification problem: $w = \\{ M, F\\}$ is  _discrete_. $\\mathbf{x}$ could be the _continuous_ shape generated by the outline of a face in an image.\n",
    "* (ii) This is a regression problem: $w = \\text{all possible joint angles}$ is _continuous_.  $\\mathbf{x}$ could be the _continuous_ parametrization of lines connecting joints in an image.\n",
    "* (iii) This is a classification problem: $w = \\{ H, S, D, C \\}$ is _discrete_.  $\\mathbf{x}$ could be the _continuous_ shape generated by the outline of the suit in the upper-right-hand corner of the card.\n",
    "* (iv) This is a classification problem: $w = \\{ \\text{match}, \\tilde{\\text{match}} \\}$ is _discrete_.  $\\mathbf{x}$ could be the _continuous_ difference between two image pixelwise intensities in RGB channels.\n",
    "* (v) This is a regression problem: $w = \\{ \\text{all possible 3D points} \\}$ is _continuous_.  $\\mathbf{x}$ could be the _discrete_ combination of camera pose and $(x, y)$ pixels of the desired point for each camera in a countable set of cameras."
   ]
  },
  {
   "cell_type": "markdown",
   "metadata": {},
   "source": [
    "### Problem 2\n",
    "\n",
    "#### Discriminative model\n",
    "\n",
    "\\begin{aligned}\n",
    "Pr(w=m \\ | x) &= \\text{Cat}_w [ \\mathbf{\\bar \\lambda}_{1 \\cdots M} ] \\\\\n",
    "\\mathbf{\\bar \\lambda}_m &= \\frac{\\exp [y_m]}{\\sum_{k = 1}^M \\exp [y_k]}\n",
    "\\end{aligned}\n",
    "\n",
    "where the $\\{y_k\\}$ are learned values from training data.  This model utilizes a _softmax_ activation model.\n",
    "\n",
    "#### Generative model\n",
    "\n",
    "\\begin{aligned}\n",
    "Pr(x \\ | w=m) &= \\text{Cat}_x [ \\mathbf{\\lambda}_{1 \\cdots K}^m ] \\\\\n",
    "Pr(w) &= \\text{Cat}_w [ \\mathbf{\\lambda}_{1 \\cdots M}^{\\text{prior}} ] \\\\\n",
    "Pr(w=m \\ | x) &= \\frac{Pr(x \\ | w=m) Pr(w)}{\\sum_{j=1}^M Pr(x \\ | w=j) Pr(w)}\n",
    "\\end{aligned}\n",
    "\n",
    "The $\\mathbf{\\lambda}_{1 \\cdots K}^m$ and $\\mathbf{\\lambda}_{1 \\cdots M}^{\\text{prior}}$ are learned from training."
   ]
  },
  {
   "cell_type": "markdown",
   "metadata": {},
   "source": [
    "### Problem 3\n",
    "\n",
    "Using the assumption that the distributions are already modeled:\n",
    "\n",
    "\\begin{aligned}\n",
    "Pr(w=w^* \\ | \\ x) &= \\frac{Pr(x \\ | w=w^*) Pr(w)}{\\int_{-\\infty}^\\infty Pr(x \\ | w=u) Pr(w) du}\n",
    "\\end{aligned}"
   ]
  },
  {
   "cell_type": "markdown",
   "metadata": {},
   "source": [
    "### Problem 4\n",
    "\n",
    "\\begin{aligned}\n",
    "Pr(w | x) &= \\text{Beta}_w [ \\bar \\alpha, \\bar \\beta ] \\\\\n",
    "\\bar \\alpha &= (\\phi_\\alpha x)^2 \\\\\n",
    "\\bar \\beta &= (\\phi_\\beta x)^2\n",
    "\\end{aligned}\n",
    "\n",
    "$\\phi_\\alpha, \\phi_\\beta$ are learned by training. $\\bar \\alpha, \\bar \\beta \\ge 0$ as required for the beta distribution."
   ]
  },
  {
   "cell_type": "markdown",
   "metadata": {},
   "source": [
    "### Problem 5\n",
    "\n",
    "Look at the log-likelihood:\n",
    "\n",
    "\\begin{aligned}\n",
    "L &= -\\frac{I}{2} \\log \\sigma^2 - \\frac{I}{2} \\log 2 \\pi - \\sum_{i=1}^I \\frac{(w_i - \\phi_0 - \\phi_1 x_i)^2}{2 \\sigma^2}\n",
    "\\end{aligned}\n",
    "\n",
    "To find the maximum-likelihood estimates, look at the parameter values $\\bigl ( \\hat \\phi_0, \\hat \\phi_1, \\hat \\sigma^2 \\bigr )$ where the derivatives vanish.  Start with $\\hat \\phi_0$:\n",
    "\n",
    "\\begin{aligned}\n",
    "0 &= \\frac{\\partial L}{\\partial \\phi_0} = \\frac{1}{2 \\hat \\sigma^2} \\sum_{i=1}^I 2 (w_i - \\hat \\phi_0 - \\hat \\phi_1 x_i) \\\\\n",
    "&= \\sum_{i=1}^I (w_i - \\hat \\phi_0 - \\hat \\phi_1 x_i) \\\\\n",
    "&\\triangleq I \\mu_w - I \\hat \\phi_0 - \\hat \\phi_1 I \\mu_x \\\\\n",
    "I \\hat \\phi_0 &= I \\mu_w - \\hat \\phi_1 I \\mu_x \\\\\n",
    "\\hat \\phi_0 &= \\mu_w - \\hat \\phi_1 \\mu_x\n",
    "\\end{aligned}\n",
    "\n",
    "Next, look at $\\phi_1$:\n",
    "\n",
    "\\begin{aligned}\n",
    "0 &= \\frac{\\partial L}{\\partial \\phi_1} = \\frac{1}{2 \\hat \\sigma^2} \\sum_{i=1}^I 2 x_i (w_i - \\hat \\phi_0 - \\hat \\phi_1 x_i) \\\\\n",
    "&= \\sum_{i=1}^I x_i (w_i - \\hat \\phi_0 - \\hat \\phi_1 x_i) \\\\\n",
    "\\text{(plug in $\\hat \\phi_0$)} &= \\sum_{i=1}^I x_i \\bigl ( w_i - \\mu_w + \\hat \\phi_1 (\\mu_x - x_i) \\bigr ) \\\\\n",
    "&= \\sum_{i=1}^I x_i w_i - I \\mu_w \\mu_x + \\hat \\phi_1 \\bigl ( I \\mu_x^2 - \\sum_{i=1}^I x_i^2 \\bigr ) \\\\\n",
    "\\hat \\phi_1 \\bigl ( \\sum_{i=1}^I x_i^2 - I \\mu_x^2 \\bigr ) &= \\sum_{i=1}^I x_i w_i - I \\mu_w \\mu_x \\\\\n",
    "\\hat \\phi_1 &= \\frac{\\sum_{i=1}^I x_i w_i - I \\mu_w \\mu_x}{\\sum_{i=1}^I x_i^2 - I \\mu_x^2}\n",
    "\\end{aligned}\n",
    "\n",
    "Finally, $\\sigma^2$:\n",
    "\n",
    "\\begin{aligned}\n",
    "0 &= \\frac{\\partial L}{\\partial \\sigma^2} = -\\frac{I}{2 \\hat \\sigma^2} + \\frac{1}{2 (\\hat \\sigma^2)^2} \\sum_{i=1}^I (w_i - \\hat \\phi_0 - \\hat \\phi_1 x_i)^2 \\\\\n",
    "&= -I + \\frac{1}{\\hat \\sigma^2} \\sum_{i=1}^I (w_i - \\hat \\phi_0 - \\hat \\phi_1 x_i)^2 \\\\\n",
    "I \\hat \\sigma^2 &= \\sum_{i=1}^I (w_i - \\hat \\phi_0 - \\hat \\phi_1 x_i)^2 \\\\\n",
    "\\hat \\sigma^2 &= \\frac{\\sum_{i=1}^I (w_i - \\hat \\phi_0 - \\hat \\phi_1 x_i)^2}{I}\n",
    "\\end{aligned}"
   ]
  },
  {
   "cell_type": "markdown",
   "metadata": {},
   "source": [
    "### Problem 6\n",
    "\n",
    "\\begin{aligned}\n",
    "Pr \\biggl ( \\begin{bmatrix}\n",
    "w \\\\\n",
    "x\n",
    "\\end{bmatrix} \\biggr ) &= \\text{Norm}_{[w, x]^T} \\biggl [ \\begin{bmatrix}\n",
    "\\mu_x \\\\\n",
    "\\mu_w\n",
    "\\end{bmatrix}, \n",
    "\\begin{bmatrix}\n",
    "\\sigma_{ww}^2 & \\sigma_{wx}^2 \\\\\n",
    "\\sigma_{wx}^2 & \\sigma_{xx}^2\n",
    "\\end{bmatrix}\n",
    "\\biggr ]\n",
    "\\end{aligned}\n",
    "\n",
    "Considering the results of Section 5.5, it is true that:\n",
    "\n",
    "\\begin{aligned}\n",
    "Pr(w \\ | \\ x = x^{*}) &= \\text{Norm}_{w} \\bigl [ \\mu_w + \\frac{\\sigma_{wx}^2}{\\sigma_{xx}^2}(x^* - \\mu_x), \\sigma_{ww}^2 - \\frac{(\\sigma_{wx}^2)^2}{\\sigma_{xx}^2} \\bigr ] \\\\\n",
    "&\\equiv \\text{Norm}_{w} \\bigl [ \\bigl ( \\mu_w - \\frac{\\sigma_{wx}^2}{\\sigma_{xx}^2} \\mu_x \\bigr ) +  \\frac{\\sigma_{wx}^2}{\\sigma_{xx}^2} x^*, \\sigma_{ww}^2 - \\frac{(\\sigma_{wx}^2)^2}{\\sigma_{xx}^2} \\bigr ] \\\\\n",
    "&\\triangleq \\text{Norm}_w [\\phi_0 + \\phi_1 x^*, \\sigma^2 ]\n",
    "\\end{aligned}"
   ]
  },
  {
   "cell_type": "markdown",
   "metadata": {},
   "source": [
    "### Problem 7\n",
    "\n",
    "On the decision boundary,\n",
    "\n",
    "\\begin{aligned}\n",
    "Pr(w = 1 \\ | \\ x) &= 0.5\n",
    "&= Pr(w = 0 \\ | \\ x)\n",
    "\\end{aligned}\n",
    "\n",
    "regardless of the prior.  For this problem, use a uniform prior:\n",
    "\n",
    "\\begin{aligned}\n",
    "Pr(w = 0) = Pr(w = 1) = 0.5\n",
    "\\end{aligned}\n",
    "\n",
    "Using Bayes' rule:\n",
    "\n",
    "\\begin{aligned}\n",
    "Pr(w = 1 \\ | \\ x) &= \\frac{Pr(x \\ | \\ w = 1) Pr(w=1)}{Pr(x \\ | \\ w = 0) Pr(w=0) + Pr(x \\ | \\ w = 1) Pr(w=1)} \\\\\n",
    "\\text{(plug in values)} \\ \\ 0.5 &= \\frac{0.5 \\cdot Pr(x \\ | \\ w = 1)}{0.5 \\cdot Pr(x \\ | \\ w = 0) + 0.5 \\cdot Pr(x \\ | \\ w = 1)} \\\\\n",
    "0.5 \\cdot Pr(x \\ | \\ w = 0) + 0.5 \\cdot Pr(x \\ | \\ w = 1) &= Pr(x \\ | \\ w = 1) \\\\\n",
    "0.5 \\cdot Pr(x \\ | \\ w = 0) &= 0.5 \\cdot Pr(x \\ | \\ w = 1) \\\\\n",
    "Pr(x \\ | \\ w = 0) &= Pr(x \\ | \\ w = 1)\n",
    "\\end{aligned}\n",
    "\n",
    "Model the probability distributions as univariate normals:\n",
    "\n",
    "\\begin{aligned}\n",
    "Pr(x \\ | \\ w = 0) &= \\text{Norm}_x [ \\mu_0, \\sigma^2_0 ] \\\\\n",
    "Pr(x \\ | \\ w = 1) &= \\text{Norm}_x [ \\mu_1, \\sigma^2_1 ]\n",
    "\\end{aligned}\n",
    "\n",
    "So, for a point $x^*$ on the decision boundary, the condition above can be rewritten as:\n",
    "\n",
    "\\begin{aligned}\n",
    "Pr(x^* \\ | \\ w = 0) &= Pr(x^* \\ | \\ w = 1) \\\\\n",
    "\\text{Norm}_{x^*} [ \\mu_0, \\sigma^2_0 ] &= \\text{Norm}_{x^*} [ \\mu_1, \\sigma^2_1 ] \\\\\n",
    "\\log \\text{Norm}_{x^*} [ \\mu_0, \\sigma^2_0 ] &= \\log \\text{Norm}_{x^*} [ \\mu_1, \\sigma^2_1 ] \\\\\n",
    "-\\frac{I}{2} \\log \\sigma_0^2 - \\frac{I}{2} \\log 2 \\pi - \\frac{(x^* - \\mu_0)^2}{2 \\sigma_0^2} &= -\\frac{I}{2} \\log \\sigma_1^2 - \\frac{I}{2} \\log 2 \\pi - \\frac{(x^* - \\mu_1)^2}{2 \\sigma_1^2} \\\\\n",
    "\\frac{(x^* - \\mu_1)^2}{2 \\sigma_1^2} - \\frac{(x^* - \\mu_0)^2}{2 \\sigma_0^2} + \\frac{I}{2} \\bigl ( \\log \\sigma_0^2 - \\log \\sigma_1^2 \\bigr ) &= 0\n",
    "\\end{aligned}\n",
    "\n",
    "which can be rewritten in the desired form of a quadratic equation:\n",
    "\n",
    "\\begin{aligned}\n",
    "\\Bigl ( \\frac{1}{2 \\sigma_0^2} - \\frac{1}{2 \\sigma_1^2} \\Bigr ) (x^*)^2 + \\Bigl ( \\frac{\\mu_1^2}{\\sigma_1^2} - \\frac{\\mu_0^2}{\\sigma_0^2} \\Bigr ) x^* + \\Bigl ( \\frac{\\mu_0^2}{2 \\sigma_0^2} - \\frac{\\mu_1^2}{2 \\sigma_1^2} + \\frac{I}{2} \\bigl ( \\log \\sigma_0^2 - \\log \\sigma_1^2 \\bigr ) \\Bigr ) &= 0\n",
    "\\end{aligned}\n",
    "\n",
    "The shape of the decision boundary for the classifier of Section 6.4.1 _does not_ take the form of this equation.  The next problem shows this."
   ]
  },
  {
   "cell_type": "markdown",
   "metadata": {},
   "source": [
    "### Problem 6.8\n",
    "\n"
   ]
  },
  {
   "cell_type": "markdown",
   "metadata": {},
   "source": [
    "Using the sigmoid function for the conditional probability density function $Pr(w \\ | \\ x)$, we are looking for coefficients $\\phi_0, \\phi_1, \\phi_2$ that generate the decision boundary given equal priors.\n",
    "\n",
    "\\begin{aligned}\n",
    "\\text{sig}[\\phi_0 + \\phi_1 x^* + \\phi_2 (x^*)^2] &= \\frac{1}{2}\n",
    "\\end{aligned}\n",
    "\n",
    "From this it follows that:\n",
    "\n",
    "\\begin{aligned}\n",
    "\\exp [-\\phi_0 - \\phi_1 x^* - \\phi_2 (x^*)^2] &= 1 \\\\\n",
    "\\text{(take the log)} \\ \\ -(\\phi_0 + \\phi_1 x^* + \\phi_2 (x^*)^2) &= 0 \\\\\n",
    "\\phi_0 + \\phi_1 x^* + \\phi_2 (x^*)^2 &= 0\n",
    "\\end{aligned}\n",
    "\n",
    "Following the result of Problem 7 above, we compute the coefficients that give the desired decision boundary:\n",
    "\n",
    "\\begin{aligned}\n",
    "\\phi_2 &= \\frac{1}{2 \\sigma_0^2} - \\frac{1}{2 \\sigma_1^2} \\\\\n",
    "&\\triangleq \\frac{1}{2 \\sigma^2} - \\frac{1}{2 \\cdot 1.5 \\sigma^2} \\\\\n",
    "&= \\frac{1}{2 \\sigma^2} - \\frac{1}{3 \\sigma^2} = \\frac{1}{6 \\sigma^2} \\\\\n",
    "\\phi_1 &= \\frac{\\mu_1^2}{\\sigma_1^2} - \\frac{\\mu_0^2}{\\sigma_0^2} \\\\\n",
    "&= 0 \\\\\n",
    "\\phi_0 &= \\frac{\\mu_0^2}{2 \\sigma_0^2} - \\frac{\\mu_1^2}{2 \\sigma_1^2} + \\frac{I}{2} \\bigl ( \\log \\sigma_0^2 + \\log \\sigma_1^2 \\bigr ) &= 0 - 0 + \\frac{I}{2} \\bigl ( \\log \\sigma_0^2 - \\log \\sigma_1^2 \\bigr ) \\\\\n",
    "&= \\frac{I}{2} \\bigl ( \\log \\sigma^2 - \\log 1.5 \\cdot \\sigma^2 \\bigr ) \\\\\n",
    "&= \\frac{I}{2} \\bigl ( \\log \\sigma^2 - \\log 1.5 - \\log \\sigma^2 \\bigr ) \\\\\n",
    "&= - \\frac{I}{2} \\log 1.5 \\\\\n",
    "\\end{aligned}"
   ]
  },
  {
   "cell_type": "markdown",
   "metadata": {},
   "source": [
    "### Problem 9\n",
    "\n",
    "For the generative model, the number of parameters to train is $2N$, the number of elements from the two multivariate mean vectors, plus $N(N+1)$, the number of _unique_ elements in the two multivariate covariance matrices, plus 1 for the prior Bernoulli coefficient $\\lambda_p$.  The total number of parameters is then $2N + N(N+1) + 1$.\n",
    "\n",
    "The discriminative model is much simpler.  There are only $N$ weights on the sampled multivariate datapoint $\\mathbf{x}^*$ plus 1 for any bias. The total number of parameters is then $N+1$.\n",
    "\n",
    "For lower dimensions, the training effort for each model will be comparable, and construction of the prior will be straightforward.  The generative model may even provide more insight here, because we could understand an underlying relationship between the world and the data.\n",
    "\n",
    "For higher dimensions the power of the discriminative classifier dominates.  Constructing any kind of meaningful prior here could be challenging."
   ]
  },
  {
   "cell_type": "markdown",
   "metadata": {},
   "source": [
    "### Problem 10\n",
    "\n",
    "I would set this up as a two-step classification procedure.  First, I would classify pixels into two sets: foreground pixels and background pixels.  Then, given that shadow can sometimes be classified as foreground, I would do a second binary classification on the foreground pixels into _actual_ foreground pixels and shadow pixels.  This second phase would require a retrain on data taken from the original background subtraction step."
   ]
  }
 ],
 "metadata": {
  "kernelspec": {
   "display_name": "Python 3",
   "language": "python",
   "name": "python3"
  },
  "language_info": {
   "codemirror_mode": {
    "name": "ipython",
    "version": 3
   },
   "file_extension": ".py",
   "mimetype": "text/x-python",
   "name": "python",
   "nbconvert_exporter": "python",
   "pygments_lexer": "ipython3",
   "version": "3.5.2"
  }
 },
 "nbformat": 4,
 "nbformat_minor": 2
}
