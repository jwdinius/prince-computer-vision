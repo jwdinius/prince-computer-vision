{
 "cells": [
  {
   "cell_type": "markdown",
   "metadata": {},
   "source": [
    "## Chapter 8"
   ]
  },
  {
   "cell_type": "markdown",
   "metadata": {},
   "source": [
    "### Algorithm References\n",
    "\n",
    "I've implemented starter code in this chapter's `utilities.py` file, but I've run out of time and energy to test these implementations.  From now on, if I can find a decent implementation online, I'll make reference to it here.\n",
    "\n",
    "Here's a link to the [implementation guide](http://www.cs.ucl.ac.uk/external/s.prince/book/Algorithms.pdf) that accompanies the book.\n",
    "\n",
    "#### Algorithm 8.1: MLE linear regression\n",
    "[sklearn's implementation](https://scikit-learn.org/stable/modules/generated/sklearn.linear_model.LinearRegression.html)\n",
    "\n",
    "#### Algorithm 8.2: Bayesian linear regression\n",
    "[sklearn generalized linear models, section 1.1.10](https://scikit-learn.org/stable/modules/linear_model.html)\n",
    "\n",
    "#### Algorithm 8.3: Gaussian process regression\n",
    "[sklearn, again](https://scikit-learn.org/stable/modules/generated/sklearn.gaussian_process.GaussianProcessRegressor.html)\n",
    "\n",
    "#### Algorithm 8.4: Sparse linear regression\n",
    "[sklearn's MLE linear regression implementation](https://scikit-learn.org/stable/modules/generated/sklearn.linear_model.LinearRegression.html) handles sparse inputs, or you can use [Lasso](https://scikit-learn.org/stable/modules/generated/sklearn.linear_model.Lasso.html)\n",
    "\n",
    "#### Algorithm 8.5: Dual linear regression (Bayesian)\n",
    "See the accompanying guide, pg. 18.\n",
    "\n",
    "#### Algorithm 8.6: Dual Gaussian process regression\n",
    "See the accompanying guide, pg. 18.\n",
    "\n",
    "#### Algorithm 8.7: Relevance vector regression\n",
    "[Github repo](https://github.com/JamesRitchie/scikit-rvm), see the `RVR` class."
   ]
  },
  {
   "cell_type": "markdown",
   "metadata": {},
   "source": [
    "### Problem 1\n",
    "\n",
    "The conditional density for the discriminative model is\n",
    "\n",
    "\\begin{aligned}\n",
    "Pr(w \\ | \\ \\mathbf{X} ) &= \\text{Beta}_{w} [\\alpha, \\alpha] \\\\\n",
    "&= \\frac{\\Gamma[2 \\alpha]}{\\Gamma[\\alpha]^2} w^{\\alpha-1}(1-w)^{\\alpha-1}, \n",
    "\\end{aligned}\n",
    "\n",
    "where the given constraint $\\alpha=\\beta$ has been used.\n",
    "\n",
    "The parameter $\\alpha \\in \\mathbb{R}^+$ is said to depend on the data, so one approach would be to setup a linear mapping from $\\mathbb{R}^D$ to $\\mathbb{R}^+$ as\n",
    "\n",
    "\\begin{aligned}\n",
    "\\alpha = \\frac{1}{I} \\sum_{i=1}^I f(\\mathbf{\\phi}^T \\mathbf{x'}_i)\n",
    "\\end{aligned}\n",
    "\n",
    "where $\\mathbf{x'}$ includes the constant 1 in the first position to allow training the bias term $\\phi_0$.  The continuously differentiable function $f$ is chosen so that $\\alpha$ can be enforced to be positive.  One option for $f$ would be a superposition of radial basis functions.\n",
    "\n",
    "Next, find the log-likelihood; this will provide the objective function to be maximized.  Assuming the datapoints are independent, it follows that:\n",
    "\n",
    "\\begin{aligned}\n",
    "\\log L &= \\sum_{i=1}^I I \\log \\Gamma [2 \\alpha ] - 2 I \\log \\Gamma [ \\alpha ] + (\\alpha-1) \\sum_{i=1}^I \\bigl ( \\log w_i + \\log [1 - w_i ] \\bigr ) \n",
    "\\end{aligned}\n",
    "\n",
    "Now, the model for $\\alpha$ can be plugged in to the log-likelihood and the resulting equation can be differentiated with respect to the $\\phi_k$'s, with $k \\in {0, \\dots, D}$.  The maximum likelihood will occur where all derivatives vanish."
   ]
  },
  {
   "cell_type": "markdown",
   "metadata": {},
   "source": [
    "### Problem 2\n",
    "Start with the conditional probability density:\n",
    "\\begin{aligned}\n",
    "Pr(\\mathbf{w} \\ | \\ \\mathbf{X}) &= \\text{Stud}_\\mathbf{w} \\bigl [ \\mathbf{X}^T \\mathbf{\\phi}, \\sigma^2 I , \\nu \\bigr ]\n",
    "\\end{aligned}\n",
    "\n",
    "and take the log-likelihood:\n",
    "\n",
    "\\begin{aligned}\n",
    "\\log L &= \\log \\Gamma \\Bigl [ \\frac{\\nu + D + 1}{2} \\Bigr ] - \\frac{D+1}{2} \\log [\\nu \\pi] - \\frac{1}{2} \\log | \\Sigma| - \\log \\Gamma \\bigl [ \\frac{\\nu}{2} \\bigr ] - \\frac{\\nu + D + 1}{2} \\log \\Bigl [ 1 + \\frac{(\\mathbf{w} - \\mathbf{X}^T \\mathbf{\\phi})^T(\\mathbf{w} - \\mathbf{X}^T \\mathbf{\\phi})}{\\sigma^2 \\nu} \\Bigr ]\n",
    "\\end{aligned}\n",
    "\n",
    "_Note: the $D+1$-term comes from the inclusion of \"1\" to the data vector so that the bias-term can be learned.  This element increases the size of the data vectors by 1._\n",
    "\n",
    "Now, the usual steps for maximum likelihood learning follow:  _take the derivatives and solve for the parameter values that make the derivatives vanish_."
   ]
  },
  {
   "cell_type": "markdown",
   "metadata": {},
   "source": [
    "### Problem 3\n",
    "\n",
    "\\begin{aligned}\n",
    "\\log L &= -\\frac{I}{2} \\log [2 \\pi] - \\frac{I}{2} \\log \\sigma^2 - \\frac{(\\mathbf{w} - \\mathbf{X}^T \\mathbf{\\phi})^T(\\mathbf{w} - \\mathbf{X}^T \\mathbf{\\phi})}{2 \\sigma^2}\n",
    "\\end{aligned}\n",
    "\n",
    "Take the derivative w.r.t $\\mathbf{\\phi}$:\n",
    "\n",
    "\\begin{aligned}\n",
    "0 &= \\frac{\\partial (\\log L)}{\\partial \\mathbf{\\phi}} \\\\\n",
    "&= \\frac{1}{2 \\sigma^2} \\bigl [ -\\mathbf{X}(\\mathbf{w} - \\mathbf{X}^T \\mathbf{\\phi}) -\\mathbf{X}(\\mathbf{w} - \\mathbf{X}^T \\mathbf{\\phi}) \\bigr ] \\\\\n",
    "&= -\\frac{1}{\\sigma^2} \\bigl [ \\mathbf{X}(\\mathbf{w} - \\mathbf{X}^T \\mathbf{\\phi}) \\bigr ] \\\\\n",
    "0 &= \\mathbf{X} \\mathbf{w} - \\mathbf{X} \\mathbf{X}^T \\mathbf{\\phi} \\\\\n",
    "\\mathbf{X} \\mathbf{X}^T \\mathbf{\\phi} &= \\mathbf{X} \\mathbf{w} \\\\\n",
    "\\mathbf{\\phi} &= \\bigl ( \\mathbf{X} \\mathbf{X}^T \\bigr )^{-1} \\mathbf{X} \\mathbf{w}\n",
    "\\end{aligned}"
   ]
  },
  {
   "cell_type": "markdown",
   "metadata": {},
   "source": [
    "### Problem 4\n",
    "\n",
    "\\begin{aligned}\n",
    "Pr(\\mathbf{\\phi} \\ | \\ \\mathbf{X}, \\mathbf{w}) &= \\frac{Pr(\\mathbf{w} \\ | \\ \\mathbf{X}, \\mathbf{\\phi}) Pr(\\mathbf{\\phi})}{Pr(\\mathbf{w} \\ | \\ \\mathbf{X})} \\\\\n",
    "&= \\frac{\\text{Norm}_{\\mathbf{w}} \\bigl [ \\mathbf{X}^T \\mathbf{\\phi}, \\sigma^2 I \\bigr ] \\text{Norm}_{\\mathbf{\\phi}} \\bigl [ \\mathbf{0}, \\sigma_p^2 I \\bigr ]}{Pr(\\mathbf{w} \\ | \\ \\mathbf{X})}\n",
    "\\end{aligned}\n",
    "\n",
    "See Eqn. 5.18:\n",
    "\n",
    "\\begin{aligned}\n",
    "\\text{Norm}_{\\mathbf{w}} \\bigl [ \\mathbf{X}^T \\mathbf{\\phi}, \\sigma^2 I \\bigr ] &= \\kappa \\text{Norm}_{\\mathbf{\\phi}} \\Bigl [ \\frac{1}{\\sigma^2} \\Bigl ( \\frac{1}{\\sigma^2} \\mathbf{X} \\mathbf{X}^T \\Bigr )^{-1} \\mathbf{X} \\mathbf{w}, \\frac{1}{\\sigma^2} \\Bigl ( \\frac{1}{\\sigma^2} \\mathbf{X} \\mathbf{X}^T \\Bigr )^{-1} \\Bigr ] \\\\\n",
    "&= \\kappa \\text{Norm}_{\\mathbf{\\phi}} \\bigl [ (\\mathbf{X} \\mathbf{X}^T)^{-1} \\mathbf{X} \\mathbf{w}, \\sigma^2 ( \\mathbf{X} \\mathbf{X}^T)^{-1} \\bigr ]\n",
    "\\end{aligned}\n",
    "\n",
    "Combine with original Bayes' formulation:\n",
    "\n",
    "\\begin{aligned}\n",
    "\\frac{\\text{Norm}_{\\mathbf{w}} \\bigl [ \\mathbf{X}^T \\mathbf{\\phi}, \\sigma^2 I \\bigr ] \\text{Norm}_{\\mathbf{\\phi}} \\bigl [ \\mathbf{0}, \\sigma_p^2 I \\bigr ]}{Pr(\\mathbf{w} \\ | \\ \\mathbf{X})} &= \\frac{\\kappa \\text{Norm}_{\\mathbf{\\phi}} \\bigl [ (\\mathbf{X} \\mathbf{X}^T)^{-1} \\mathbf{X} \\mathbf{w}, \\sigma^2 ( \\mathbf{X} \\mathbf{X}^T)^{-1} \\bigr ] \\text{Norm}_{\\mathbf{\\phi}} \\bigl [ \\mathbf{0}, \\sigma_p^2 I \\bigr ]}{Pr(\\mathbf{w} \\ | \\ \\mathbf{X})}\n",
    "\\end{aligned}\n",
    "\n",
    "Use Eqn. 5.14 to combine:\n",
    "\n",
    "\\begin{aligned}\n",
    "\\frac{\\kappa \\text{Norm}_{\\mathbf{\\phi}} \\bigl [ (\\mathbf{X} \\mathbf{X}^T)^{-1} \\mathbf{X} \\mathbf{w}, \\sigma^2 ( \\mathbf{X} \\mathbf{X}^T)^{-1} \\bigr ] \\text{Norm}_{\\mathbf{\\phi}} \\bigl [ \\mathbf{0}, \\sigma_p^2 I \\bigr ]}{Pr(\\mathbf{w} \\ | \\ \\mathbf{X})} &= \\frac{\\bar \\kappa}{Pr(\\mathbf{w} \\ | \\ \\mathbf{X})} \\text{Norm}_{\\mathbf{\\phi}} \\Bigl [ \\Bigl ( \\frac{1}{\\sigma^2} \\mathbf{X} \\mathbf{X}^T + \\frac{1}{\\sigma_p^2} I \\Bigr )^{-1} \\frac{1}{\\sigma^2} \\mathbf{X} \\mathbf{X}^T  \\bigl ( \\mathbf{X} \\mathbf{X}^T \\bigr )^{-1} \\mathbf{X} \\mathbf{w}, \\Bigl ( \\frac{1}{\\sigma^2} \\mathbf{X} \\mathbf{X}^T + \\frac{1}{\\sigma_p^2} I \\Bigr )^{-1} \\Bigr ] \\\\\n",
    "&= \\frac{\\bar \\kappa}{Pr(\\mathbf{w} \\ | \\ \\mathbf{X})} \\text{Norm}_{\\mathbf{\\phi}} \\Bigl [ \\Bigl ( \\frac{1}{\\sigma^2} \\mathbf{X} \\mathbf{X}^T + \\frac{1}{\\sigma_p^2} I \\Bigr )^{-1} \\frac{1}{\\sigma^2} \\mathbf{X} \\mathbf{w}, \\Bigl ( \\frac{1}{\\sigma^2} \\mathbf{X} \\mathbf{X}^T + \\frac{1}{\\sigma_p^2} I \\Bigr )^{-1} \\Bigr ]\n",
    "\\end{aligned}\n",
    "\n",
    "where $\\bar \\kappa$ combines constants from application of Eqns. 5.18 and 5.14.  The constant $\\frac{\\bar \\kappa}{Pr(\\mathbf{w} \\ | \\ \\mathbf{X})}$ must be equal to 1 in order for the expression to be a valid probability distribution.  Now, the desired form is found:\n",
    "\n",
    "\\begin{aligned}\n",
    "Pr(\\mathbf{\\phi} \\ | \\ \\mathbf{X}, \\mathbf{w}) &= \\text{Norm}_{\\mathbf{\\phi}} \\Bigl [ \\frac{1}{\\sigma^2} A^{-1} \\mathbf{X} \\mathbf{w}, A^{-1} \\Bigr ] \\\\\n",
    "A &= \\frac{1}{\\sigma^2} \\mathbf{X} \\mathbf{X}^T + \\frac{1}{\\sigma_p^2} I\n",
    "\\end{aligned}"
   ]
  },
  {
   "cell_type": "markdown",
   "metadata": {},
   "source": [
    "### Problem 5\n",
    "\n",
    "As mentioned in the solutions manual, tackling this problem directly would be a pain.  Instead, consider the following for a new datapoint:\n",
    "\n",
    "\\begin{aligned}\n",
    "w^* &= \\mathbf{x^*}^T \\mathbf{\\phi} + \\varepsilon, \\ \\varepsilon \\sim \\text{Norm}_h [ 0, \\sigma^2] \\\\\n",
    "\\mathbf{\\phi} &= \\frac{1}{\\sigma^2} A^{-1} \\mathbf{X} \\mathbf{w} + \\mathbf{\\alpha}, \\ \\mathbf{\\alpha} \\sim \\text{Norm}_\\mathbf{h} [\\mathbf{0}, \\mathbf{A}^{-1}] \\\\\n",
    "A &= \\frac{1}{\\sigma^2} \\mathbf{X} \\mathbf{X}^T + \\frac{1}{\\sigma_p^2} I\n",
    "\\end{aligned}\n",
    "\n",
    "The $h$ and $\\mathbf{h}$ are hidden variables that are used for the random perturbations of the world state $w^*$ and the weight vector $\\phi$, respectively.  Take a look at Eqn. 8.12 if the form above looks strange; the results above are a simple consequence of the form of the probability distributions inside the integral on the second line.  Now, to show that $w^*$ is, in fact, drawn from the desired distribution, look at expectations (taken w.r.t the hidden variables):\n",
    "\n",
    "\\begin{aligned}\n",
    "E[ w^* ] &= \\mathbf{x^*}^T E [ \\mathbf{\\phi}] + E[\\varepsilon] \\\\\n",
    "&= \\frac{1}{\\sigma^2} \\mathbf{x^*}^T A^{-1} \\mathbf{X} \\mathbf{w} + 0 \\\\\n",
    "&= \\frac{1}{\\sigma^2} \\mathbf{x^*}^T A^{-1} \\mathbf{X} \\mathbf{w} \\\\\n",
    "&\\triangleq \\mu_{w^*} \\\\\n",
    "E[(w^*)^2] &= \\mathbf{x^*}^T E [ \\mathbf{\\phi} \\mathbf{\\phi}^T ] \\mathbf{x^*} + E [\\varepsilon^2 ] \\\\\n",
    "&= \\mathbf{x^*}^T E [ \\mathbf{\\phi} \\mathbf{\\phi}^T ] \\mathbf{x^*} + \\sigma^2\n",
    "\\end{aligned}\n",
    "\n",
    "since $\\varepsilon = \\varepsilon - E[\\varepsilon]$.  _Note: the desired relationship for the mean has already been found above._\n",
    "\n",
    "Now, for $E [ \\mathbf{\\phi} \\mathbf{\\phi}^T ]$, note that (see Ch. 3):\n",
    "\\begin{aligned}\n",
    "E[(\\mathbf{\\phi} - E[\\mathbf{\\phi}])(\\mathbf{\\phi} - E[\\mathbf{\\phi}])^T] &= E [ \\mathbf{\\phi} \\mathbf{\\phi}^T ] - E [ \\mathbf{\\phi} ] E [ \\mathbf{\\phi}^T] \\\\\n",
    "(\\implies) A^{-1} &= E [ \\mathbf{\\phi} \\mathbf{\\phi}^T ] - \\frac{1}{\\sigma^4} A^{-1} \\mathbf{X} \\mathbf{w} \\mathbf{w}^T \\mathbf{X}^T A^{-1} \\\\\n",
    "E [ \\mathbf{\\phi} \\mathbf{\\phi}^T ] &= A^{-1} + \\frac{1}{\\sigma^4} A^{-1} \\mathbf{X} \\mathbf{w} \\mathbf{w}^T \\mathbf{X}^T A^{-1}\n",
    "\\end{aligned}\n",
    "\n",
    "Putting all of this information together, we have:\n",
    "\n",
    "\\begin{aligned}\n",
    "E[(w^*-E[w^*])^2] &= E[(w^*)^2] - E[w^*]^2 \\\\\n",
    "&= \\mathbf{x^*}^T \\Bigl ( A^{-1} + \\frac{1}{\\sigma^4} A^{-1} \\mathbf{X} \\mathbf{w} \\mathbf{w}^T \\mathbf{X}^T A^{-1} \\Bigr ) \\mathbf{x^*} + \\sigma^2 - \\frac{1}{\\sigma^4} \\mathbf{x^*}^T A^{-1} \\mathbf{X} \\mathbf{w} \\mathbf{w}^T \\mathbf{X}^T A^{-1} \\mathbf{x^*} \\\\\n",
    "&= \\mathbf{x^*}^T A^{-1} \\mathbf{x^*} + \\sigma^2 \\\\\n",
    "&\\triangleq \\Sigma_{w^*}\n",
    "\\end{aligned}\n",
    "\n",
    "Therefore, we have shown the desired relationship $w^* \\sim \\text{Norm}[ \\mu_{w^*}, \\Sigma_{w^*} ]$ with:\n",
    "\n",
    "\\begin{aligned}\n",
    "\\mu_{w^*} &\\triangleq \\frac{1}{\\sigma^2} \\mathbf{x^*}^T A^{-1} \\mathbf{X} \\mathbf{w} \\\\\n",
    "\\Sigma_{w^*} &\\triangleq \\mathbf{x^*}^T A^{-1} \\mathbf{x^*} + \\sigma^2\n",
    "\\end{aligned}"
   ]
  },
  {
   "cell_type": "markdown",
   "metadata": {},
   "source": [
    "### Problem 6\n",
    "\n",
    "The inversion lemma states for matrices $B, C, D$ (with appropriate size):\n",
    "\n",
    "\\begin{aligned}\n",
    "(B^{-1} + C^T D^{-1} C)^{-1} = B - B C^T(C B C^T + D)^{-1} C B\n",
    "\\end{aligned}\n",
    "\n",
    "The problem at-hand can be put into the desired form above by setting:\n",
    "\n",
    "\\begin{aligned}\n",
    "B &= \\sigma_p^2 I_D \\\\\n",
    "C &= \\mathbf{X}^T \\\\\n",
    "D &= \\sigma^2 I\n",
    "\\end{aligned}\n",
    "\n",
    "The inversion lemma is used to show:\n",
    "\n",
    "\\begin{aligned}\n",
    "A^{-1} &= \\Bigl ( \\frac{1}{\\sigma^2} \\mathbf{X} \\mathbf{X}^T + \\frac{1}{\\sigma_p^2} I_D \\Bigr )^{-1} \\\\\n",
    "&= \\sigma_p^2 I_D - \\sigma_p^2 I_D \\mathbf{X} (\\mathbf{X}^T \\sigma_p^2 I_D \\mathbf{X} + \\sigma^2 I_I)^{-1} \\mathbf{X}^T \\sigma_p^2 I_D \\\\\n",
    "&= \\sigma_p^2 I_D - \\sigma_p^4 \\frac{1}{\\sigma_p^2} I_D \\mathbf{X} \\Bigl ( \\mathbf{X} \\mathbf{X}^T + \\frac{\\sigma^2}{\\sigma_p^2} I_I \\Bigr )^{-1} \\mathbf{X}^T \\\\\n",
    "&= \\sigma_p^2 I_D - \\sigma_p^2 I_D \\mathbf{X} \\Bigl ( \\mathbf{X} \\mathbf{X}^T + \\frac{\\sigma^2}{\\sigma_p^2} I_I \\Bigr )^{-1} \\mathbf{X}^T\n",
    "\\end{aligned}"
   ]
  },
  {
   "cell_type": "markdown",
   "metadata": {},
   "source": [
    "### Problem 7\n",
    "\n",
    "\\begin{aligned}\n",
    "Pr( \\mathbf{w} \\ | \\ \\mathbf{X}, \\sigma^2) &= \\text{Norm}_\\mathbf{w} [\\mathbf{0}, \\sigma_p^2 \\mathbf{X} \\mathbf{X}^T + \\sigma^2 I] \\\\\n",
    "&= \\frac{1}{(2 \\pi)^{D/2} | \\sigma_p^2 \\mathbf{X} \\mathbf{X}^T + \\sigma^2 I |^{1/2} } \\exp [ -0.5 \\mathbf{w}^T (\\sigma_p^2 \\mathbf{X} \\mathbf{X}^T + \\sigma^2 I)^{-1} \\mathbf{w} ]\n",
    "\\end{aligned}\n",
    "\n",
    "Take the derivative w.r.t $\\sigma^2$ next.  _Note: the following relationships from the appendix are useful for the derivation_ ($x$ is a scalar, $Y$ is a matrix):\n",
    "\n",
    "\\begin{aligned}\n",
    "\\frac{\\partial | Y |}{\\partial x} &= |Y| \\text{Tr} \\biggl [Y^{-1} \\frac{\\partial Y}{\\partial x} \\biggr ] \\\\\n",
    "\\frac{\\partial Y^{-1}}{\\partial x} &= -Y^{-1} \\frac{\\partial Y}{\\partial x} Y^{-1}\n",
    "\\end{aligned}\n",
    "\n",
    "Use these facts, along with the product and chain rules of differentiation:\n",
    "\n",
    "\\begin{aligned}\n",
    "\\frac{\\partial Pr( \\mathbf{w} \\ | \\ \\mathbf{X}, \\sigma^2)}{\\partial \\sigma^2} &= \\frac{\\exp [ -0.5 \\mathbf{w}^T (\\sigma_p^2 \\mathbf{X} \\mathbf{X}^T + \\sigma^2 I)^{-1} \\mathbf{w} ]}{(2 \\pi)^{D/2}} \\Bigl (-\\frac{| \\sigma_p^2 \\mathbf{X} \\mathbf{X}^T + \\sigma^2 I | \\cdot \\text{Tr} [(\\sigma_p^2 \\mathbf{X} \\mathbf{X}^T + \\sigma^2 I)^{-1} I ] }{2| \\sigma_p^2 \\mathbf{X} \\mathbf{X}^T + \\sigma^2 I |^{3/2}}  \\\\\n",
    "&+& \\frac{(-0.5 \\mathbf{w}^T (\\sigma_p^2 \\mathbf{X} \\mathbf{X}^T + \\sigma^2 I)^{-1} \\mathbf{w}) \\cdot (-0.5 \\mathbf{w}^T \\bigl [ -(\\sigma_p^2 \\mathbf{X} \\mathbf{X}^T + \\sigma^2 I)^{-1} I (\\sigma_p^2 \\mathbf{X} \\mathbf{X}^T + \\sigma^2 I)^{-1} \\bigr ] \\mathbf{w})}{| \\sigma_p^2 \\mathbf{X} \\mathbf{X}^T + \\sigma^2 I |^{1/2}} \\Bigr ) \\\\\n",
    "&= \\frac{\\exp [ -0.5 \\mathbf{w}^T (\\sigma_p^2 \\mathbf{X} \\mathbf{X}^T + \\sigma^2 I)^{-1} \\mathbf{w} ]}{(2 \\pi)^{D/2}} \\Bigl (-\\frac{\\text{sgn}(| \\sigma_p^2 \\mathbf{X} \\mathbf{X}^T + \\sigma^2 I |) \\cdot \\text{Tr} [(\\sigma_p^2 \\mathbf{X} \\mathbf{X}^T + \\sigma^2 I)^{-1} I ] }{2| \\sigma_p^2 \\mathbf{X} \\mathbf{X}^T + \\sigma^2 I |^{1/2}} \\\\\n",
    "&- \\frac{0.25 (\\mathbf{w}^T (\\sigma_p^2 \\mathbf{X} \\mathbf{X}^T + \\sigma^2 I)^{-1} \\mathbf{w}) \\cdot (\\mathbf{w}^T (\\sigma_p^2 \\mathbf{X} \\mathbf{X}^T + \\sigma^2 I)^{-2} \\mathbf{w})}{| \\sigma_p^2 \\mathbf{X} \\mathbf{X}^T + \\sigma^2 I |^{1/2}} \\Bigr )\n",
    "\\end{aligned}"
   ]
  },
  {
   "cell_type": "markdown",
   "metadata": {},
   "source": [
    "### Problem 8\n",
    "\n",
    "\\begin{aligned}\n",
    "q(\\phi) &= \\max_h \\Bigl ( \\text{Norm}_\\phi \\bigl [ 0, \\frac{1}{h} \\bigr ] \\cdot \\text{Gam}_h \\bigl [ \\frac{\\nu}{2}, \\frac{\\nu}{2} \\bigr ] \\Bigr ) \\\\\n",
    "&= \\max_h \\Bigl ( \\frac{h}{\\sqrt{2 \\pi}} \\exp[-\\phi^2 h] \\frac{\\nu^{\\nu/2}}{2^{\\nu/2} \\Gamma \\bigl [ \\frac{\\nu}{2} \\bigr ]} h^{\\nu/2 - 1} \\exp \\bigl [ -\\frac{\\nu h}{2} \\bigr ] \\Bigr ) \\\\\n",
    "&= \\frac{\\nu^{\\nu/2}}{2^{(\\nu+1)/2} \\pi^{1/2} \\Gamma \\bigl [ \\frac{\\nu}{2} \\bigr ]} \\max_h \\Bigl [ h^{(\\nu+1)/2} \\exp \\bigl [ -\\bigl ( \\phi^2 + \\frac{\\nu}{2} \\bigr ) h \\bigr ] \\Bigr ]\n",
    "\\end{aligned}\n",
    "\n",
    "To actually find the argmax, $\\hat h$, differentiate w.r.t $h$ and set the result $=0$:\n",
    "\n",
    "\\begin{aligned}\n",
    "0 &= \\frac{\\partial q(\\phi)}{\\partial h} = \\frac{\\nu^{\\nu/2}}{2^{(\\nu+1)/2} \\pi^{1/2} \\Gamma \\bigl [ \\frac{\\nu}{2} \\bigr ]} \\biggl [ \\frac{\\nu + 1}{2} {\\hat h}^{(\\nu-1)/2} \\exp \\bigl [ -\\bigl ( \\phi^2 + \\frac{\\nu}{2} \\bigr ) \\hat h \\bigr ] - {\\hat h}^{(\\nu+1)/2} \\bigl ( \\phi^2 + \\frac{\\nu}{2} \\bigr ) \\exp \\bigl [ -\\bigl ( \\phi^2 + \\frac{\\nu}{2} \\bigr ) \\hat h \\bigr ] \\biggr ] \\\\\n",
    "(\\implies) \\ \\ 0 &= \\frac{\\nu+1}{2} - \\hat h \\bigl ( \\phi^2 + \\frac{\\nu}{2} \\bigr ) \\\\\n",
    "\\hat h &= \\frac{\\nu+1}{2 \\bigl ( \\phi^2 + \\frac{\\nu}{2} \\bigr )}\n",
    "\\end{aligned}\n",
    "\n",
    "The closed-form expression is then:\n",
    "\n",
    "\\begin{aligned}\n",
    "q(\\phi) &= \\frac{\\nu^{\\nu/2}}{2^{(\\nu+1)/2} \\pi^{1/2} \\Gamma \\bigl [ \\frac{\\nu}{2} \\bigr ]} \\Bigl ( \\frac{\\nu+1}{2 \\bigl ( \\phi^2 + \\frac{\\nu}{2} \\bigr )} \\Bigr )^{(\\nu+1)/2} \\exp \\bigl [- (\\nu + 1)/2 \\bigr ]\n",
    "\\end{aligned}"
   ]
  },
  {
   "cell_type": "code",
   "execution_count": 14,
   "metadata": {},
   "outputs": [
    {
     "data": {
      "image/png": "[encoded data removed]",
      "text/plain": [
       "<Figure size 432x288 with 1 Axes>"
      ]
     },
     "metadata": {
      "needs_background": "light"
     },
     "output_type": "display_data"
    },
    {
     "data": {
      "image/png": "[encoded data removed]",
      "text/plain": [
       "<Figure size 432x288 with 1 Axes>"
      ]
     },
     "metadata": {
      "needs_background": "light"
     },
     "output_type": "display_data"
    }
   ],
   "source": [
    "def q(phi, nu):\n",
    "    _const = np.exp(-0.5*(nu+1)) * nu**(0.5*nu) / (2.**(0.5*(nu+1))*np.sqrt(np.pi)*scipy_spec.gamma(0.5*nu))\n",
    "    _base = 0.5 * (nu + 1.) / (phi**2 + 0.5*nu)\n",
    "    return _const * _base**(0.5 * (nu + 1))\n",
    "\n",
    "nu = 2.\n",
    "phis = np.linspace(-5, 5, 100)\n",
    "qs = np.array([q(_phi, nu) for _phi in phis])\n",
    "\n",
    "# single-dimensional case\n",
    "plt.figure()\n",
    "plt.plot(phis, qs)\n",
    "plt.xlabel('$\\phi$')\n",
    "plt.ylabel('$q(\\phi)$')\n",
    "plt.title('nu=2')\n",
    "\n",
    "# two-dimensional case\n",
    "[XX, YY] = np.meshgrid(phis, phis)\n",
    "xx = XX.flatten().reshape((XX.size, 1))\n",
    "yy = YY.flatten().reshape((YY.size, 1))\n",
    "xy = np.hstack((xx, yy))\n",
    "temp = np.array([q(_xy[0], nu)*q(_xy[1], nu) for _xy in xy])\n",
    "output = temp.reshape((100, 100))\n",
    "plt.figure()\n",
    "plt.contour(XX, YY, output)\n",
    "plt.xlabel('$\\phi_1$')\n",
    "plt.ylabel('$\\phi_2$')\n",
    "plt.title('nu=2, contour chart')\n",
    "plt.show()"
   ]
  },
  {
   "cell_type": "markdown",
   "metadata": {},
   "source": [
    "### Problem 9\n",
    "The problem, as written, seems worked out already in Section 8.3."
   ]
  },
  {
   "cell_type": "markdown",
   "metadata": {},
   "source": [
    "### Problem 10\n",
    "\n",
    "As mentioned in the chapter, when $I > D$, it is generally more efficient to use the general form for linear regression, as opposed to the _dual_ form."
   ]
  },
  {
   "cell_type": "markdown",
   "metadata": {},
   "source": [
    "### Problem 11\n",
    "\n",
    "\\begin{aligned}\n",
    "\\log L &= -\\frac{I}{2} \\log 2 \\pi - \\frac{I}{2} \\log \\sigma^2 - \\frac{(\\mathbf{w} - \\mathbf{X}\\mathbf{X}^T \\mathbf{\\psi})^T(\\mathbf{w} - \\mathbf{X}\\mathbf{X}^T \\mathbf{\\psi})}{2 \\sigma^2}\n",
    "\\end{aligned}\n",
    "\n",
    "Differentiate w.r.t. $\\mathbf{\\psi}$ and set to $\\mathbf{0}$ ...\n",
    "\n",
    "\\begin{aligned}\n",
    "\\mathbf{0} &= \\frac{\\partial \\log L}{\\partial \\mathbf{\\psi}} = \\frac{1}{\\sigma^2} \\bigl [ -\\mathbf{X}^T \\mathbf{X} (\\mathbf{w} - \\mathbf{X}\\mathbf{X}^T \\mathbf{\\psi}) \\bigr ] \\\\\n",
    "(\\implies) \\ \\ \\mathbf{0} &= \\mathbf{w} - \\mathbf{X}\\mathbf{X}^T \\mathbf{\\psi} \\\\\n",
    "\\mathbf{w} &= \\mathbf{X}\\mathbf{X}^T \\mathbf{\\psi} \\\\\n",
    "\\mathbf{\\psi} &= \\bigl ( \\mathbf{X}\\mathbf{X}^T \\bigr )^{-1} \\mathbf{w}\n",
    "\\end{aligned}"
   ]
  }
 ],
 "metadata": {
  "kernelspec": {
   "display_name": "Python 3",
   "language": "python",
   "name": "python3"
  },
  "language_info": {
   "codemirror_mode": {
    "name": "ipython",
    "version": 3
   },
   "file_extension": ".py",
   "mimetype": "text/x-python",
   "name": "python",
   "nbconvert_exporter": "python",
   "pygments_lexer": "ipython3",
   "version": "3.5.2"
  }
 },
 "nbformat": 4,
 "nbformat_minor": 2
}
